{
 "cells": [
  {
   "cell_type": "code",
   "execution_count": 1,
   "metadata": {
    "collapsed": true,
    "ExecuteTime": {
     "end_time": "2024-03-26T09:11:14.109082600Z",
     "start_time": "2024-03-26T09:11:10.634489700Z"
    }
   },
   "outputs": [],
   "source": [
    "# for auto reload\n",
    "%load_ext autoreload\n",
    "%autoreload 2\n",
    "\n",
    "from RL.hyperparameters.hyperparameters import *\n",
    "from RL import wandb_utils\n",
    "import gym\n",
    "from stable_baselines3 import DDPG\n",
    "import pickle\n",
    "from RL import training_utils\n",
    "import numpy as np\n",
    "from Data import data_utils"
   ]
  },
  {
   "cell_type": "markdown",
   "source": [
    "## create environemnt"
   ],
   "metadata": {
    "collapsed": false,
    "pycharm": {
     "name": "#%% md\n"
    }
   }
  },
  {
   "cell_type": "code",
   "execution_count": 2,
   "outputs": [],
   "source": [
    "# create gym-environemnt\n",
    "hyperparameters = hyper_parameters_dict\n",
    "env = gym.make(hyperparameters[\"env_name\"], hyper_parameters_dict=hyperparameters)"
   ],
   "metadata": {
    "collapsed": false,
    "pycharm": {
     "name": "#%%\n"
    },
    "ExecuteTime": {
     "end_time": "2024-03-26T09:11:15.480573800Z",
     "start_time": "2024-03-26T09:11:15.339905800Z"
    }
   }
  },
  {
   "cell_type": "code",
   "execution_count": 3,
   "outputs": [
    {
     "name": "stdout",
     "output_type": "stream",
     "text": [
      "normalized value of velocity_timeback0 in the state observation is 0.7673197680990869\n",
      "real value of velocity_timeback0 in the state observation is 15.346395361981738\n",
      "normalized value of velocity_timeback1 in the state observation is 0.73756478166948\n",
      "real value of velocity_timeback1 in the state observation is 14.751295633389601\n",
      "normalized value of velocity_timeback2 in the state observation is 0.7062176025659401\n",
      "real value of velocity_timeback2 in the state observation is 14.124352051318802\n",
      "normalized value of velocity_timeback3 in the state observation is 0.686067338207853\n",
      "real value of velocity_timeback3 in the state observation is 13.721346764157062\n",
      "normalized value of velocity_timeback4 in the state observation is 0.6754661534821981\n",
      "real value of velocity_timeback4 in the state observation is 13.509323069643962\n",
      "normalized value of velocity_timeback5 in the state observation is 0.6529835024289758\n",
      "real value of velocity_timeback5 in the state observation is 13.059670048579516\n",
      "normalized value of velocity_timeback6 in the state observation is 0.5970707030678849\n",
      "real value of velocity_timeback6 in the state observation is 11.941414061357698\n",
      "normalized value of velocity_timeback7 in the state observation is 0.5230494716033839\n",
      "real value of velocity_timeback7 in the state observation is 10.460989432067677\n",
      "normalized value of bank_angle_timeback0 in the state observation is 0.0\n",
      "real value of bank_angle_timeback0 in the state observation is 0.0\n",
      "normalized value of bank_angle_timeback1 in the state observation is 0.0\n",
      "real value of bank_angle_timeback1 in the state observation is 0.0\n",
      "normalized value of bank_angle_timeback2 in the state observation is 0.0\n",
      "real value of bank_angle_timeback2 in the state observation is 0.0\n",
      "normalized value of bank_angle_timeback3 in the state observation is 0.0\n",
      "real value of bank_angle_timeback3 in the state observation is 0.0\n",
      "normalized value of bank_angle_timeback4 in the state observation is 0.0\n",
      "real value of bank_angle_timeback4 in the state observation is 0.0\n",
      "normalized value of bank_angle_timeback5 in the state observation is 0.0\n",
      "real value of bank_angle_timeback5 in the state observation is 0.0\n",
      "normalized value of bank_angle_timeback6 in the state observation is 0.0\n",
      "real value of bank_angle_timeback6 in the state observation is 0.0\n",
      "normalized value of bank_angle_timeback7 in the state observation is 0.0\n",
      "real value of bank_angle_timeback7 in the state observation is 0.0\n",
      "normalized value of vz_timeback0 in the state observation is -0.05820460424799263\n",
      "real value of vz_timeback0 in the state observation is -1.746138127439779\n",
      "normalized value of vz_timeback1 in the state observation is -0.061191306823507756\n",
      "real value of vz_timeback1 in the state observation is -1.8357392047052328\n",
      "normalized value of vz_timeback2 in the state observation is -0.048996900535034076\n",
      "real value of vz_timeback2 in the state observation is -1.4699070160510224\n",
      "normalized value of vz_timeback3 in the state observation is -0.030791562597174464\n",
      "real value of vz_timeback3 in the state observation is -0.9237468779152339\n",
      "normalized value of vz_timeback4 in the state observation is -0.024167301737131837\n",
      "real value of vz_timeback4 in the state observation is -0.7250190521139551\n",
      "normalized value of vz_timeback5 in the state observation is -0.03831192525854998\n",
      "real value of vz_timeback5 in the state observation is -1.1493577577564993\n",
      "normalized value of vz_timeback6 in the state observation is -0.054186037769799564\n",
      "real value of vz_timeback6 in the state observation is -1.6255811330939869\n",
      "normalized value of vz_timeback7 in the state observation is -0.03454608942344244\n",
      "real value of vz_timeback7 in the state observation is -1.0363826827032734\n",
      "normalized value of angle_from_wind_timeback0 in the state observation is 0.6565600233649175\n",
      "real value of angle_from_wind_timeback0 in the state observation is 118.18080420568515\n",
      "normalized value of angle_from_wind_timeback1 in the state observation is 0.6485369952642575\n",
      "real value of angle_from_wind_timeback1 in the state observation is 116.73665914756634\n",
      "normalized value of angle_from_wind_timeback2 in the state observation is 0.6407340073184744\n",
      "real value of angle_from_wind_timeback2 in the state observation is 115.33212131732539\n",
      "normalized value of angle_from_wind_timeback3 in the state observation is 0.6333503494746522\n",
      "real value of angle_from_wind_timeback3 in the state observation is 114.00306290543739\n",
      "normalized value of angle_from_wind_timeback4 in the state observation is 0.6267799228105951\n",
      "real value of angle_from_wind_timeback4 in the state observation is 112.82038610590712\n",
      "normalized value of angle_from_wind_timeback5 in the state observation is 0.6216591625607719\n",
      "real value of angle_from_wind_timeback5 in the state observation is 111.89864926093894\n",
      "normalized value of angle_from_wind_timeback6 in the state observation is 0.618792745697186\n",
      "real value of angle_from_wind_timeback6 in the state observation is 111.38269422549348\n",
      "normalized value of angle_from_wind_timeback7 in the state observation is 0.6189033894620599\n",
      "real value of angle_from_wind_timeback7 in the state observation is 111.40261010317079\n"
     ]
    }
   ],
   "source": [
    "# get observations from the environment\n",
    "obs = env.reset()\n",
    "not_normalized_obs = env.state_to_real_values(obs)\n",
    "# print it, timeback is the time in history\n",
    "for i, val in enumerate(obs):\n",
    "    print(f\"normalized value of {env.obs_to_param[i]} in the state observation is {val}\")\n",
    "    print(f\"real value of {env.obs_to_param[i]} in the state observation is {not_normalized_obs[i]}\")"
   ],
   "metadata": {
    "collapsed": false,
    "pycharm": {
     "name": "#%%\n"
    },
    "ExecuteTime": {
     "end_time": "2024-03-26T09:11:19.250614400Z",
     "start_time": "2024-03-26T09:11:19.113613200Z"
    }
   }
  },
  {
   "cell_type": "code",
   "execution_count": 4,
   "outputs": [
    {
     "name": "stdout",
     "output_type": "stream",
     "text": [
      "the possible actions: {0: 'bank_angle', 1: 'attack_angle'}\n",
      "wind in simulation position=(0,0,500), time=0: [3.        0.        2.2836069]\n"
     ]
    }
   ],
   "source": [
    "# see the possible actions\n",
    "print(f\"the possible actions: {env.action_to_param}\")\n",
    "# see the wind\n",
    "print(f\"wind in simulation position=(0,0,500), time=0: {env.rl_glider_simulation.thermal.get_wind_vel([0,0,500], 0)}\")"
   ],
   "metadata": {
    "collapsed": false,
    "pycharm": {
     "name": "#%%\n"
    },
    "ExecuteTime": {
     "end_time": "2024-03-26T09:11:21.817688900Z",
     "start_time": "2024-03-26T09:11:21.707687500Z"
    }
   }
  },
  {
   "cell_type": "markdown",
   "source": [
    "## run simple algorithm on environment"
   ],
   "metadata": {
    "collapsed": false,
    "pycharm": {
     "name": "#%% md\n"
    }
   }
  },
  {
   "cell_type": "code",
   "execution_count": 5,
   "outputs": [],
   "source": [
    "obs = env.reset()\n",
    "done = False\n",
    "while not done:\n",
    "    action = np.array([1,0])  # make the bank angle high\n",
    "    obs, rewards, done, info = env.step(action)"
   ],
   "metadata": {
    "collapsed": false,
    "pycharm": {
     "name": "#%%\n"
    },
    "ExecuteTime": {
     "end_time": "2024-03-26T09:11:24.678782500Z",
     "start_time": "2024-03-26T09:11:24.436337400Z"
    }
   }
  },
  {
   "cell_type": "code",
   "execution_count": 6,
   "outputs": [],
   "source": [
    "# show the plot of this technique\n",
    "env.render()"
   ],
   "metadata": {
    "collapsed": false,
    "pycharm": {
     "name": "#%%\n"
    },
    "ExecuteTime": {
     "end_time": "2024-03-26T09:11:30.913487400Z",
     "start_time": "2024-03-26T09:11:27.547482300Z"
    }
   }
  },
  {
   "cell_type": "markdown",
   "source": [
    "## run trained model"
   ],
   "metadata": {
    "collapsed": false,
    "pycharm": {
     "name": "#%% md\n"
    }
   }
  },
  {
   "cell_type": "code",
   "execution_count": 7,
   "outputs": [
    {
     "name": "stderr",
     "output_type": "stream",
     "text": [
      "c:\\users\\yoavf\\appdata\\local\\programs\\python\\python38\\lib\\site-packages\\stable_baselines3\\common\\save_util.py:166: UserWarning:\n",
      "\n",
      "Could not deserialize object lr_schedule. Consider using `custom_objects` argument to replace this object.\n",
      "\n"
     ]
    }
   ],
   "source": [
    "# load the model and the config that saved during the training process\n",
    "with open('hyperparameters_config.pickle', 'rb') as handle:\n",
    "    config = pickle.load(handle)\n",
    "\n",
    "hyper_param_dict = wandb_utils.get_hyper_param_dict_from_config(config)\n",
    "env = gym.make(hyper_param_dict[\"env_name\"], hyper_parameters_dict=hyper_param_dict)\n",
    "model = DDPG.load(\"expert_agent.zip\")"
   ],
   "metadata": {
    "collapsed": false,
    "pycharm": {
     "name": "#%%\n"
    },
    "ExecuteTime": {
     "end_time": "2024-03-26T09:11:43.361021200Z",
     "start_time": "2024-03-26T09:11:42.866958100Z"
    }
   }
  },
  {
   "cell_type": "code",
   "execution_count": 8,
   "outputs": [
    {
     "name": "stderr",
     "output_type": "stream",
     "text": [
      "100%|██████████| 5/5 [00:11<00:00,  2.37s/it]\n"
     ]
    }
   ],
   "source": [
    "# run the model on the env for 5 trajectories\n",
    "df = training_utils.get_df_for_analysis_by_model_env(model, env, episodes=5)"
   ],
   "metadata": {
    "collapsed": false,
    "pycharm": {
     "name": "#%%\n"
    },
    "ExecuteTime": {
     "end_time": "2024-03-26T09:12:02.256927200Z",
     "start_time": "2024-03-26T09:11:50.111294600Z"
    }
   }
  },
  {
   "cell_type": "code",
   "execution_count": 9,
   "outputs": [
    {
     "name": "stdout",
     "output_type": "stream",
     "text": [
      "the mean vz of our agent on 5 trajectories is: 0.2954418650538149\n"
     ]
    }
   ],
   "source": [
    "# see some statistics on the route\n",
    "print(f\"the mean vz of our agent on 5 trajectories is: {np.mean(df['info_vz_timeback0'])}\")"
   ],
   "metadata": {
    "collapsed": false,
    "pycharm": {
     "name": "#%%\n"
    },
    "ExecuteTime": {
     "end_time": "2024-03-26T09:12:05.183374Z",
     "start_time": "2024-03-26T09:12:05.079375700Z"
    }
   }
  },
  {
   "cell_type": "code",
   "execution_count": 10,
   "outputs": [],
   "source": [
    "# draw one route\n",
    "data_utils.draw_glider_route(df[df[\"route_num\"]==0]).show()"
   ],
   "metadata": {
    "collapsed": false,
    "pycharm": {
     "name": "#%%\n"
    },
    "ExecuteTime": {
     "end_time": "2024-03-26T09:12:09.108324100Z",
     "start_time": "2024-03-26T09:12:08.759651500Z"
    }
   }
  }
 ],
 "metadata": {
  "kernelspec": {
   "display_name": "Python 3",
   "language": "python",
   "name": "python3"
  },
  "language_info": {
   "codemirror_mode": {
    "name": "ipython",
    "version": 2
   },
   "file_extension": ".py",
   "mimetype": "text/x-python",
   "name": "python",
   "nbconvert_exporter": "python",
   "pygments_lexer": "ipython2",
   "version": "2.7.6"
  }
 },
 "nbformat": 4,
 "nbformat_minor": 0
}

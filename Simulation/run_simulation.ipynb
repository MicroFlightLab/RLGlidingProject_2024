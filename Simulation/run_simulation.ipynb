{
 "cells": [
  {
   "cell_type": "code",
   "execution_count": 8,
   "metadata": {},
   "outputs": [],
   "source": [
    "from glider_simulation import GliderFlight\n",
    "import plotly.express as px\n",
    "import wind_simulation\n",
    "import plotly.io as pio\n",
    "import numpy as np\n",
    "pio.renderers.default = \"browser\""
   ]
  },
  {
   "cell_type": "markdown",
   "source": [
    "This notebook is for practicing of using the simulation library"
   ],
   "metadata": {
    "collapsed": false,
    "pycharm": {
     "name": "#%% md\n"
    }
   }
  },
  {
   "cell_type": "markdown",
   "source": [
    "## glider simulation"
   ],
   "metadata": {
    "collapsed": false,
    "pycharm": {
     "name": "#%% md\n"
    }
   }
  },
  {
   "cell_type": "code",
   "execution_count": 6,
   "outputs": [],
   "source": [
    "# creating simulation object\n",
    "sim1 = GliderFlight(200, 1, save_information=True, dt=0.01,\n",
    "                    initial_params_dict={\"w_star\": 5, \"horizontal_wind\": [1, 0, 0], \"thermal_height\": 2000,\n",
    "                                         \"side_angle\": 180, \"velocity\": 15, \"glide_angle\": -5,\n",
    "                                         \"noise_wind\": [0, 0, 0], \"time_for_noise_change\": 100})"
   ],
   "metadata": {
    "collapsed": false,
    "pycharm": {
     "name": "#%%\n"
    }
   }
  },
  {
   "cell_type": "code",
   "execution_count": 11,
   "outputs": [],
   "source": [
    "# set the angles for our glider\n",
    "sim1.set_angles(new_bank=10, new_attack=2, new_sideslip=0)"
   ],
   "metadata": {
    "collapsed": false,
    "pycharm": {
     "name": "#%%\n"
    }
   }
  },
  {
   "cell_type": "code",
   "execution_count": 7,
   "outputs": [],
   "source": [
    "# run for 140 seconds\n",
    "for i in range(140):\n",
    "    sim1.step()"
   ],
   "metadata": {
    "collapsed": false,
    "pycharm": {
     "name": "#%%\n"
    }
   }
  },
  {
   "cell_type": "code",
   "execution_count": 13,
   "outputs": [],
   "source": [
    "# draw animation of the simulation - animation creation might take couple of seconds\n",
    "figs = sim1.draw_simulation(return_both=True, animation=True)\n",
    "figs[\"animation\"].show()"
   ],
   "metadata": {
    "collapsed": false,
    "pycharm": {
     "name": "#%%\n"
    }
   }
  },
  {
   "cell_type": "code",
   "execution_count": null,
   "outputs": [],
   "source": [
    "# draw the angles of the glider duting flight\n",
    "sim1.generic_draw([\"glide_angle\", \"side_angle\"])"
   ],
   "metadata": {
    "collapsed": false,
    "pycharm": {
     "name": "#%%\n"
    }
   }
  },
  {
   "cell_type": "markdown",
   "source": [
    "## wind simulation"
   ],
   "metadata": {
    "collapsed": false,
    "pycharm": {
     "name": "#%% md\n"
    }
   }
  },
  {
   "cell_type": "code",
   "execution_count": 4,
   "outputs": [],
   "source": [
    "# create new thermal area with horizontal side wind\n",
    "thermal_area = wind_simulation.ThermalArea(horizontal_wind=np.array([1, 0, 0]), w_star=10)"
   ],
   "metadata": {
    "collapsed": false,
    "pycharm": {
     "name": "#%%\n"
    }
   }
  },
  {
   "cell_type": "code",
   "execution_count": 5,
   "outputs": [
    {
     "name": "stdout",
     "output_type": "stream",
     "text": [
      "wind velocity in [0, 0, 500] t=0: [1.         0.         4.56721381]\n"
     ]
    }
   ],
   "source": [
    "curr_pos = [0, 0, 500]\n",
    "t = 0\n",
    "print(f\"wind velocity in {curr_pos} t={t}: {thermal_area.get_wind_vel(curr_pos, t)}\")"
   ],
   "metadata": {
    "collapsed": false,
    "pycharm": {
     "name": "#%%\n"
    }
   }
  }
 ],
 "metadata": {
  "kernelspec": {
   "display_name": "Python 3",
   "language": "python",
   "name": "python3"
  },
  "language_info": {
   "codemirror_mode": {
    "name": "ipython",
    "version": 3
   },
   "file_extension": ".py",
   "mimetype": "text/x-python",
   "name": "python",
   "nbconvert_exporter": "python",
   "pygments_lexer": "ipython3",
   "version": "3.8.8"
  }
 },
 "nbformat": 4,
 "nbformat_minor": 1
}